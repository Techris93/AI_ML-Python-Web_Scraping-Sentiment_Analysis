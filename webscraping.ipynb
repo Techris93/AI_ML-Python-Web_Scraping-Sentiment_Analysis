{
 "cells": [
  {
   "cell_type": "markdown",
   "id": "08d8a199-1e67-4fbd-9e66-0d65b87c15d0",
   "metadata": {},
   "source": [
    "### Fetching Raw HTML Web Content\n",
    "\n",
    "We start by accessing and obtaining the raw HTML of a webpage. Turning this into a comprehensible string format enables subsequent processing and analysis activities. "
   ]
  },
  {
   "cell_type": "code",
   "execution_count": 1,
   "id": "bb1294e9-b84a-4606-ac5c-ef7e453b2d80",
   "metadata": {
    "tags": []
   },
   "outputs": [
    {
     "data": {
      "text/plain": [
       "'<!DOCTYPE html>\\n<html lang=\"en\">\\n<head>\\n\\t<meta charset=\"UTF-8\">\\n\\t<title>Quotes to Scrape</title>\\n    <link rel=\"stylesheet\" href=\"/static/bootstrap.min.css\">\\n    <link rel=\"stylesheet\" href=\"/static/main.css\">\\n</head>\\n<body>\\n    <div class=\"container\">\\n        <div class=\"row header-box\">\\n            <div class=\"col-md-8\">\\n                <h1>\\n                    <a href=\"/\" style=\"text-decoration: none\">Quotes to Scrape</a>\\n                </h1>\\n            </div>\\n            <div class=\"col-md-4\">\\n                <p>\\n                \\n                    <a href=\"/login\">Login</a>\\n                \\n                </p>\\n            </div>\\n        </div>\\n    \\n\\n<div class=\"row\">\\n    <div class=\"col-md-8\">\\n\\n    <div class=\"quote\" itemscope itemtype=\"http://schema.org/CreativeWork\">\\n        <span class=\"text\" itemprop=\"text\">“The world as we have created it is a process of our thinking. It cannot be changed without changing our thinking.”</span>\\n        <span>by <small class=\"author\" itemprop=\"author\">Albert Einstein</small>\\n        <a href=\"/author/Albert-Einstein\">(about)</a>\\n        </span>\\n        <div class=\"tags\">\\n            Tags:\\n            <meta class=\"keywords\" itemprop=\"keywords\" content=\"change,deep-thoughts,thinking,world\" /    > \\n            \\n            <a class=\"tag\" href=\"/tag/change/page/1/\">change</a>\\n            \\n            <a class=\"tag\" href=\"/tag/deep-thoughts/page/1/\">deep-thoughts</a>\\n            \\n            <a class=\"tag\" href=\"/tag/thinking/page/1/\">thinking</a>\\n            \\n            <a class=\"tag\" href=\"/tag/world/page/1/\">world</a>\\n            \\n        </div>\\n    </div>\\n\\n    <div class=\"quote\" itemscope itemtype=\"http://schema.org/CreativeWork\">\\n        <span class=\"text\" itemprop=\"text\">“It is our choices, Harry, that show what we truly are, far more than our abilities.”</span>\\n        <span>by <small class=\"author\" itemprop=\"author\">J.K. Rowling</small>\\n        <a href=\"/author/J-K-Rowling\">(about)</a>\\n        </span>\\n        <div class=\"tags\">\\n            Tags:\\n            <meta class=\"keywords\" itemprop=\"keywords\" content=\"abilities,choices\" /    > \\n            \\n            <a class=\"tag\" href=\"/tag/abilities/page/1/\">abilities</a>\\n            \\n            <a class=\"tag\" href=\"/tag/choices/page/1/\">choices</a>\\n            \\n        </div>\\n    </div>\\n\\n    <div class=\"quote\" itemscope itemtype=\"http://schema.org/CreativeWork\">\\n        <span class=\"text\" itemprop=\"text\">“There are only two ways to live your life. One is as though nothing is a miracle. The other is as though everything is a miracle.”</span>\\n        <span>by <small class=\"author\" itemprop=\"author\">Albert Einstein</small>\\n        <a href=\"/author/Albert-Einstein\">(about)</a>\\n        </span>\\n        <div class=\"tags\">\\n            Tags:\\n            <meta class=\"keywords\" itemprop=\"keywords\" content=\"inspirational,life,live,miracle,miracles\" /    > \\n            \\n            <a class=\"tag\" href=\"/tag/inspirational/page/1/\">inspirational</a>\\n            \\n            <a class=\"tag\" href=\"/tag/life/page/1/\">life</a>\\n            \\n            <a class=\"tag\" href=\"/tag/live/page/1/\">live</a>\\n            \\n            <a class=\"tag\" href=\"/tag/miracle/page/1/\">miracle</a>\\n            \\n            <a class=\"tag\" href=\"/tag/miracles/page/1/\">miracles</a>\\n            \\n        </div>\\n    </div>\\n\\n    <div class=\"quote\" itemscope itemtype=\"http://schema.org/CreativeWork\">\\n        <span class=\"text\" itemprop=\"text\">“The person, be it gentleman or lady, who has not pleasure in a good novel, must be intolerably stupid.”</span>\\n        <span>by <small class=\"author\" itemprop=\"author\">Jane Austen</small>\\n        <a href=\"/author/Jane-Austen\">(about)</a>\\n        </span>\\n        <div class=\"tags\">\\n            Tags:\\n            <meta class=\"keywords\" itemprop=\"keywords\" content=\"aliteracy,books,classic,humor\" /    > \\n            \\n            <a class=\"tag\" href=\"/tag/aliteracy/page/1/\">aliteracy</a>\\n            \\n            <a class=\"tag\" href=\"/tag/books/page/1/\">books</a>\\n            \\n            <a class=\"tag\" href=\"/tag/classic/page/1/\">classic</a>\\n            \\n            <a class=\"tag\" href=\"/tag/humor/page/1/\">humor</a>\\n            \\n        </div>\\n    </div>\\n\\n    <div class=\"quote\" itemscope itemtype=\"http://schema.org/CreativeWork\">\\n        <span class=\"text\" itemprop=\"text\">“Imperfection is beauty, madness is genius and it&#39;s better to be absolutely ridiculous than absolutely boring.”</span>\\n        <span>by <small class=\"author\" itemprop=\"author\">Marilyn Monroe</small>\\n        <a href=\"/author/Marilyn-Monroe\">(about)</a>\\n        </span>\\n        <div class=\"tags\">\\n            Tags:\\n            <meta class=\"keywords\" itemprop=\"keywords\" content=\"be-yourself,inspirational\" /    > \\n            \\n            <a class=\"tag\" href=\"/tag/be-yourself/page/1/\">be-yourself</a>\\n            \\n            <a class=\"tag\" href=\"/tag/inspirational/page/1/\">inspirational</a>\\n            \\n        </div>\\n    </div>\\n\\n    <div class=\"quote\" itemscope itemtype=\"http://schema.org/CreativeWork\">\\n        <span class=\"text\" itemprop=\"text\">“Try not to become a man of success. Rather become a man of value.”</span>\\n        <span>by <small class=\"author\" itemprop=\"author\">Albert Einstein</small>\\n        <a href=\"/author/Albert-Einstein\">(about)</a>\\n        </span>\\n        <div class=\"tags\">\\n            Tags:\\n            <meta class=\"keywords\" itemprop=\"keywords\" content=\"adulthood,success,value\" /    > \\n            \\n            <a class=\"tag\" href=\"/tag/adulthood/page/1/\">adulthood</a>\\n            \\n            <a class=\"tag\" href=\"/tag/success/page/1/\">success</a>\\n            \\n            <a class=\"tag\" href=\"/tag/value/page/1/\">value</a>\\n            \\n        </div>\\n    </div>\\n\\n    <div class=\"quote\" itemscope itemtype=\"http://schema.org/CreativeWork\">\\n        <span class=\"text\" itemprop=\"text\">“It is better to be hated for what you are than to be loved for what you are not.”</span>\\n        <span>by <small class=\"author\" itemprop=\"author\">André Gide</small>\\n        <a href=\"/author/Andre-Gide\">(about)</a>\\n        </span>\\n        <div class=\"tags\">\\n            Tags:\\n            <meta class=\"keywords\" itemprop=\"keywords\" content=\"life,love\" /    > \\n            \\n            <a class=\"tag\" href=\"/tag/life/page/1/\">life</a>\\n            \\n            <a class=\"tag\" href=\"/tag/love/page/1/\">love</a>\\n            \\n        </div>\\n    </div>\\n\\n    <div class=\"quote\" itemscope itemtype=\"http://schema.org/CreativeWork\">\\n        <span class=\"text\" itemprop=\"text\">“I have not failed. I&#39;ve just found 10,000 ways that won&#39;t work.”</span>\\n        <span>by <small class=\"author\" itemprop=\"author\">Thomas A. Edison</small>\\n        <a href=\"/author/Thomas-A-Edison\">(about)</a>\\n        </span>\\n        <div class=\"tags\">\\n            Tags:\\n            <meta class=\"keywords\" itemprop=\"keywords\" content=\"edison,failure,inspirational,paraphrased\" /    > \\n            \\n            <a class=\"tag\" href=\"/tag/edison/page/1/\">edison</a>\\n            \\n            <a class=\"tag\" href=\"/tag/failure/page/1/\">failure</a>\\n            \\n            <a class=\"tag\" href=\"/tag/inspirational/page/1/\">inspirational</a>\\n            \\n            <a class=\"tag\" href=\"/tag/paraphrased/page/1/\">paraphrased</a>\\n            \\n        </div>\\n    </div>\\n\\n    <div class=\"quote\" itemscope itemtype=\"http://schema.org/CreativeWork\">\\n        <span class=\"text\" itemprop=\"text\">“A woman is like a tea bag; you never know how strong it is until it&#39;s in hot water.”</span>\\n        <span>by <small class=\"author\" itemprop=\"author\">Eleanor Roosevelt</small>\\n        <a href=\"/author/Eleanor-Roosevelt\">(about)</a>\\n        </span>\\n        <div class=\"tags\">\\n            Tags:\\n            <meta class=\"keywords\" itemprop=\"keywords\" content=\"misattributed-eleanor-roosevelt\" /    > \\n            \\n            <a class=\"tag\" href=\"/tag/misattributed-eleanor-roosevelt/page/1/\">misattributed-eleanor-roosevelt</a>\\n            \\n        </div>\\n    </div>\\n\\n    <div class=\"quote\" itemscope itemtype=\"http://schema.org/CreativeWork\">\\n        <span class=\"text\" itemprop=\"text\">“A day without sunshine is like, you know, night.”</span>\\n        <span>by <small class=\"author\" itemprop=\"author\">Steve Martin</small>\\n        <a href=\"/author/Steve-Martin\">(about)</a>\\n        </span>\\n        <div class=\"tags\">\\n            Tags:\\n            <meta class=\"keywords\" itemprop=\"keywords\" content=\"humor,obvious,simile\" /    > \\n            \\n            <a class=\"tag\" href=\"/tag/humor/page/1/\">humor</a>\\n            \\n            <a class=\"tag\" href=\"/tag/obvious/page/1/\">obvious</a>\\n            \\n            <a class=\"tag\" href=\"/tag/simile/page/1/\">simile</a>\\n            \\n        </div>\\n    </div>\\n\\n    <nav>\\n        <ul class=\"pager\">\\n            \\n            \\n            <li class=\"next\">\\n                <a href=\"/page/2/\">Next <span aria-hidden=\"true\">&rarr;</span></a>\\n            </li>\\n            \\n        </ul>\\n    </nav>\\n    </div>\\n    <div class=\"col-md-4 tags-box\">\\n        \\n            <h2>Top Ten tags</h2>\\n            \\n            <span class=\"tag-item\">\\n            <a class=\"tag\" style=\"font-size: 28px\" href=\"/tag/love/\">love</a>\\n            </span>\\n            \\n            <span class=\"tag-item\">\\n            <a class=\"tag\" style=\"font-size: 26px\" href=\"/tag/inspirational/\">inspirational</a>\\n            </span>\\n            \\n            <span class=\"tag-item\">\\n            <a class=\"tag\" style=\"font-size: 26px\" href=\"/tag/life/\">life</a>\\n            </span>\\n            \\n            <span class=\"tag-item\">\\n            <a class=\"tag\" style=\"font-size: 24px\" href=\"/tag/humor/\">humor</a>\\n            </span>\\n            \\n            <span class=\"tag-item\">\\n            <a class=\"tag\" style=\"font-size: 22px\" href=\"/tag/books/\">books</a>\\n            </span>\\n            \\n            <span class=\"tag-item\">\\n            <a class=\"tag\" style=\"font-size: 14px\" href=\"/tag/reading/\">reading</a>\\n            </span>\\n            \\n            <span class=\"tag-item\">\\n            <a class=\"tag\" style=\"font-size: 10px\" href=\"/tag/friendship/\">friendship</a>\\n            </span>\\n            \\n            <span class=\"tag-item\">\\n            <a class=\"tag\" style=\"font-size: 8px\" href=\"/tag/friends/\">friends</a>\\n            </span>\\n            \\n            <span class=\"tag-item\">\\n            <a class=\"tag\" style=\"font-size: 8px\" href=\"/tag/truth/\">truth</a>\\n            </span>\\n            \\n            <span class=\"tag-item\">\\n            <a class=\"tag\" style=\"font-size: 6px\" href=\"/tag/simile/\">simile</a>\\n            </span>\\n            \\n        \\n    </div>\\n</div>\\n\\n    </div>\\n    <footer class=\"footer\">\\n        <div class=\"container\">\\n            <p class=\"text-muted\">\\n                Quotes by: <a href=\"https://www.goodreads.com/quotes\">GoodReads.com</a>\\n            </p>\\n            <p class=\"copyright\">\\n                Made with <span class=\\'zyte\\'>❤</span> by <a class=\\'zyte\\' href=\"https://www.zyte.com\">Zyte</a>\\n            </p>\\n        </div>\\n    </footer>\\n</body>\\n</html>'"
      ]
     },
     "execution_count": 1,
     "metadata": {},
     "output_type": "execute_result"
    }
   ],
   "source": [
    "# Package used to work with URLs\n",
    "from urllib.request import urlopen\n",
    "\n",
    "# Link to the website\n",
    "url = \"https://quotes.toscrape.com/\"\n",
    "\n",
    "# Opening the URL and reading it\n",
    "page = urlopen(url)\n",
    "html_bytes = page.read()\n",
    "\n",
    "# Taking raw web content in bytes format and converting it into a readable string format using the UTF-8 encoding\n",
    "html = html_bytes.decode(\"utf-8\")\n",
    "\n",
    "# Print raw HTML of the webpage\n",
    "html"
   ]
  },
  {
   "cell_type": "markdown",
   "id": "0464e3db-acc7-4032-982c-e25fd8390336",
   "metadata": {},
   "source": [
    "### Understanding Regular Expression in Webscraping\n",
    "\n",
    "In this exercise, we'll continue from where we left off, after getting the raw HTML source code of the webpage. We proceed to import `re`, the module that supports regular expressions. We will be extracting the title tag from this webpage and printing it out below, which in this case is \"Quotes to Scrape\".  "
   ]
  },
  {
   "cell_type": "markdown",
   "id": "f25fb697-440e-4420-98f7-7204bce57e1e",
   "metadata": {},
   "source": [
    "We begin with the pattern that we will be analyzing, then from there use the pattern to search for the tags labeled as \"title\". \n",
    "\n",
    "The `<title.*?>` matches the opening `<title>` tag. The `.*?` part ensures that it matches any character (represented by `.`) any number of times (represented by `*`), but it will stop matching once it finds the first closing `>` character (represented by `?`). At its core, regex employs specialized symbols to identify patterns within text strings.\n",
    "\n",
    "It then utilizes the pattern to search for the first HTML tag that has `<title>` in it, ignoring case sensitivity (it doesn't care if it is uppercase or lowercase). This then retrieves the HTML tags from the `match_results`and removes the symbols `<.*?>`, before finally retrieving the word within the title.\n"
   ]
  },
  {
   "cell_type": "markdown",
   "id": "c3b8d6ae-76d4-4c9f-9c1d-8f87a0af4504",
   "metadata": {},
   "source": [
    "### Web Scraping with BeautifulSoup\n",
    "\n",
    "While regex might serve well for basic web scraping tasks, it's often not the ideal choice for more intricate or expansive web scraping projects. \n",
    "\n",
    "BeautifulSoup, a widely-used Python library for web scraping, stands out because of its user-friendly and versatile features for parsing and traversing HTML and XML content. \n",
    "\n",
    "Key benefits include its adaptability in parsing and its advanced search capabilities. Let's delve into an example to showcase the simplicity of using BeautifulSoup!"
   ]
  },
  {
   "cell_type": "code",
   "execution_count": 4,
   "id": "7c0352d2-f91d-4ed0-9d6d-c5c5986d30d3",
   "metadata": {
    "tags": []
   },
   "outputs": [
    {
     "name": "stdout",
     "output_type": "stream",
     "text": [
      "Collecting beautifulsoup4\n",
      "  Downloading beautifulsoup4-4.12.2-py3-none-any.whl (142 kB)\n",
      "\u001b[2K     \u001b[38;2;114;156;31m━━━━━━━━━━━━━━━━━━━━━━━━━━━━━━━━━━━━━\u001b[0m \u001b[32m143.0/143.0 kB\u001b[0m \u001b[31m947.5 kB/s\u001b[0m eta \u001b[36m0:00:00\u001b[0m[31m1.1 MB/s\u001b[0m eta \u001b[36m0:00:01\u001b[0m\n",
      "\u001b[?25hCollecting soupsieve>1.2 (from beautifulsoup4)\n",
      "  Downloading soupsieve-2.5-py3-none-any.whl.metadata (4.7 kB)\n",
      "Downloading soupsieve-2.5-py3-none-any.whl (36 kB)\n",
      "Installing collected packages: soupsieve, beautifulsoup4\n",
      "Successfully installed beautifulsoup4-4.12.2 soupsieve-2.5\n",
      "Note: you may need to restart the kernel to use updated packages.\n"
     ]
    }
   ],
   "source": [
    "pip install beautifulsoup4 "
   ]
  },
  {
   "cell_type": "code",
   "execution_count": 5,
   "id": "32ca2981-a423-44e8-9d2d-771f33cefb0e",
   "metadata": {
    "tags": []
   },
   "outputs": [
    {
     "name": "stdout",
     "output_type": "stream",
     "text": [
      "“The world as we have created it is a process of our thinking. It cannot be changed without changing our thinking.”\n",
      "“It is our choices, Harry, that show what we truly are, far more than our abilities.”\n",
      "“There are only two ways to live your life. One is as though nothing is a miracle. The other is as though everything is a miracle.”\n",
      "“The person, be it gentleman or lady, who has not pleasure in a good novel, must be intolerably stupid.”\n",
      "“Imperfection is beauty, madness is genius and it's better to be absolutely ridiculous than absolutely boring.”\n",
      "“Try not to become a man of success. Rather become a man of value.”\n",
      "“It is better to be hated for what you are than to be loved for what you are not.”\n",
      "“I have not failed. I've just found 10,000 ways that won't work.”\n",
      "“A woman is like a tea bag; you never know how strong it is until it's in hot water.”\n",
      "“A day without sunshine is like, you know, night.”\n"
     ]
    }
   ],
   "source": [
    "from bs4 import BeautifulSoup\n",
    "\n",
    "soup = BeautifulSoup(html, \"html.parser\")\n",
    "text = soup.find_all(\"span\", class_=\"text\")\n",
    "\n",
    "for obj in text:\n",
    "    print(obj.get_text())"
   ]
  },
  {
   "cell_type": "markdown",
   "id": "599efb52-e359-45e2-aa4f-9e01dbb3a452",
   "metadata": {},
   "source": [
    "we can see that by running this code, we are extracting all the actual quotes from famous people. In this case, BeautifulSoup can be used to parse the raw HTML files and find all `<span>` tags with \"text\" as their class. This stores all the span elements within a list, which can then be extracted by using the `get_text()` function."
   ]
  },
  {
   "cell_type": "markdown",
   "id": "8bb76f9e-b1d6-4a25-bfaa-f7f97d55b939",
   "metadata": {},
   "source": [
    "### Automating Tasks with Selenium\n",
    "\n",
    "We'll learn how to make use of Selenium to automate a login process using a dummy website that you can visit by clicking here <href>https://the-internet.herokuapp.com/login<href/>. \n",
    "\n",
    "This simple website allows us to learn how to interact with elements, autofill fields, and click on buttons to login without you having to manually do so! We start by installing Selenium package. \n",
    "\n",
    "We then proceed to import both Webdriver and keys which are necessary to open up a new browser and interact with input fields, as you will see in a bit."
   ]
  },
  {
   "cell_type": "code",
   "execution_count": 6,
   "id": "5a95d24c-9005-4d45-95e6-4b8352e03b89",
   "metadata": {
    "tags": []
   },
   "outputs": [
    {
     "name": "stdout",
     "output_type": "stream",
     "text": [
      "Collecting selenium\n",
      "  Downloading selenium-4.16.0-py3-none-any.whl.metadata (6.9 kB)\n",
      "Collecting urllib3<3,>=1.26 (from urllib3[socks]<3,>=1.26->selenium)\n",
      "  Using cached urllib3-2.1.0-py3-none-any.whl.metadata (6.4 kB)\n",
      "Collecting trio~=0.17 (from selenium)\n",
      "  Downloading trio-0.23.2-py3-none-any.whl.metadata (4.9 kB)\n",
      "Collecting trio-websocket~=0.9 (from selenium)\n",
      "  Downloading trio_websocket-0.11.1-py3-none-any.whl.metadata (4.7 kB)\n",
      "Collecting certifi>=2021.10.8 (from selenium)\n",
      "  Using cached certifi-2023.11.17-py3-none-any.whl.metadata (2.2 kB)\n",
      "Collecting attrs>=20.1.0 (from trio~=0.17->selenium)\n",
      "  Using cached attrs-23.1.0-py3-none-any.whl (61 kB)\n",
      "Collecting sortedcontainers (from trio~=0.17->selenium)\n",
      "  Downloading sortedcontainers-2.4.0-py2.py3-none-any.whl (29 kB)\n",
      "Collecting idna (from trio~=0.17->selenium)\n",
      "  Using cached idna-3.6-py3-none-any.whl.metadata (9.9 kB)\n",
      "Collecting outcome (from trio~=0.17->selenium)\n",
      "  Downloading outcome-1.3.0.post0-py2.py3-none-any.whl.metadata (2.6 kB)\n",
      "Collecting sniffio>=1.3.0 (from trio~=0.17->selenium)\n",
      "  Downloading sniffio-1.3.0-py3-none-any.whl (10 kB)\n",
      "Collecting wsproto>=0.14 (from trio-websocket~=0.9->selenium)\n",
      "  Downloading wsproto-1.2.0-py3-none-any.whl (24 kB)\n",
      "Collecting pysocks!=1.5.7,<2.0,>=1.5.6 (from urllib3[socks]<3,>=1.26->selenium)\n",
      "  Downloading PySocks-1.7.1-py3-none-any.whl (16 kB)\n",
      "Collecting h11<1,>=0.9.0 (from wsproto>=0.14->trio-websocket~=0.9->selenium)\n",
      "  Downloading h11-0.14.0-py3-none-any.whl (58 kB)\n",
      "\u001b[2K     \u001b[38;2;114;156;31m━━━━━━━━━━━━━━━━━━━━━━━━━━━━━━━━━━━━━━━━\u001b[0m \u001b[32m58.3/58.3 kB\u001b[0m \u001b[31m1.2 MB/s\u001b[0m eta \u001b[36m0:00:00\u001b[0m MB/s\u001b[0m eta \u001b[36m0:00:01\u001b[0m\n",
      "\u001b[?25hDownloading selenium-4.16.0-py3-none-any.whl (10.0 MB)\n",
      "\u001b[2K   \u001b[38;2;114;156;31m━━━━━━━━━━━━━━━━━━━━━━━━━━━━━━━━━━━━━━━━\u001b[0m \u001b[32m10.0/10.0 MB\u001b[0m \u001b[31m3.1 MB/s\u001b[0m eta \u001b[36m0:00:00\u001b[0mm eta \u001b[36m0:00:01\u001b[0m:01\u001b[0m:01\u001b[0m\n",
      "\u001b[?25hUsing cached certifi-2023.11.17-py3-none-any.whl (162 kB)\n",
      "Downloading trio-0.23.2-py3-none-any.whl (461 kB)\n",
      "\u001b[2K   \u001b[38;2;114;156;31m━━━━━━━━━━━━━━━━━━━━━━━━━━━━━━━━━━━━━━━━\u001b[0m \u001b[32m461.6/461.6 kB\u001b[0m \u001b[31m2.7 MB/s\u001b[0m eta \u001b[36m0:00:00\u001b[0mm eta \u001b[36m0:00:01\u001b[0m[36m0:00:01\u001b[0m\n",
      "\u001b[?25hDownloading trio_websocket-0.11.1-py3-none-any.whl (17 kB)\n",
      "Using cached urllib3-2.1.0-py3-none-any.whl (104 kB)\n",
      "Using cached idna-3.6-py3-none-any.whl (61 kB)\n",
      "Downloading outcome-1.3.0.post0-py2.py3-none-any.whl (10 kB)\n",
      "Installing collected packages: sortedcontainers, urllib3, sniffio, pysocks, idna, h11, certifi, attrs, wsproto, outcome, trio, trio-websocket, selenium\n",
      "Successfully installed attrs-23.1.0 certifi-2023.11.17 h11-0.14.0 idna-3.6 outcome-1.3.0.post0 pysocks-1.7.1 selenium-4.16.0 sniffio-1.3.0 sortedcontainers-2.4.0 trio-0.23.2 trio-websocket-0.11.1 urllib3-2.1.0 wsproto-1.2.0\n",
      "Note: you may need to restart the kernel to use updated packages.\n"
     ]
    }
   ],
   "source": [
    "pip install selenium"
   ]
  },
  {
   "cell_type": "code",
   "execution_count": 9,
   "id": "7e0f7ad0-5c8e-4fc0-8120-98c635551eed",
   "metadata": {
    "tags": []
   },
   "outputs": [],
   "source": [
    "from selenium import webdriver\n",
    "from selenium.webdriver.common.keys import Keys\n",
    "from selenium.webdriver.common.by import By"
   ]
  },
  {
   "cell_type": "markdown",
   "id": "f46485c0-0fa7-4491-8bfe-09f92ca8c377",
   "metadata": {},
   "source": [
    "we then go on next to open up the web browser and update both the 'username' and 'password' fields. After running the cell below, you should see a new browser window opened!"
   ]
  },
  {
   "cell_type": "code",
   "execution_count": 10,
   "id": "73b227c4-4e66-4a65-8aa0-bfe63d3bfce7",
   "metadata": {
    "tags": []
   },
   "outputs": [],
   "source": [
    "### Automated Tasks with Selenium\n",
    "\n",
    "link = 'https://the-internet.herokuapp.com/login'\n",
    "\n",
    "# Initializing webdriver and getting the link\n",
    "# using Chrome as primary browser. However if you are using another browser, you will have to download it from the Microsoft Edge Webdriver page\n",
    "driver = webdriver.Chrome()\n",
    "driver.get((link))"
   ]
  },
  {
   "cell_type": "markdown",
   "id": "63da6714-d1e0-459e-a796-592f6580fb1e",
   "metadata": {},
   "source": [
    "With the browser opened, we can go ahead and begin interacting with the input fields **using code**! \n",
    "\n",
    "Before updating the fields, we have to first locate the elements that indicate where the fields are. \n",
    "\n",
    "As previously covered, we can either make use of BeautifulSoup or opening up developer tools to study the raw HTML web content. The code below demonstates how we can do this."
   ]
  },
  {
   "cell_type": "code",
   "execution_count": 12,
   "id": "21b8698f-1c11-4a01-9194-43565d33812a",
   "metadata": {
    "tags": []
   },
   "outputs": [
    {
     "data": {
      "text/plain": [
       "<!DOCTYPE html>\n",
       "\n",
       "<!--[if IE 8]>         <html class=\"no-js lt-ie9\" lang=\"en\" > <![endif]-->\n",
       "<!--[if gt IE 8]><!--> <html class=\"no-js\" lang=\"en\"> <!--<![endif]-->\n",
       "<html>\n",
       "<head>\n",
       "<script src=\"/js/vendor/298279967.js\"></script>\n",
       "<meta charset=\"utf-8\"/>\n",
       "<meta content=\"width=device-width\" name=\"viewport\"/>\n",
       "<title>The Internet</title>\n",
       "<link href=\"/css/app.css\" rel=\"stylesheet\"/>\n",
       "<link href=\"/css/font-awesome.css\" rel=\"stylesheet\"/>\n",
       "<script src=\"/js/vendor/jquery-1.11.3.min.js\"></script>\n",
       "<script src=\"/js/vendor/jquery-ui-1.11.4/jquery-ui.js\"></script>\n",
       "<script src=\"/js/foundation/foundation.js\"></script>\n",
       "<script src=\"/js/foundation/foundation.alerts.js\"></script>\n",
       "<script>\n",
       "      $(document).foundation();\n",
       "    </script>\n",
       "</head>\n",
       "<body>\n",
       "<div class=\"row\">\n",
       "<div class=\"large-12 columns\" id=\"flash-messages\">\n",
       "</div>\n",
       "</div>\n",
       "<div class=\"row\">\n",
       "<a href=\"https://github.com/tourdedave/the-internet\"><img alt=\"Fork me on GitHub\" src=\"/img/forkme_right_green_007200.png\" style=\"position: absolute; top: 0; right: 0; border: 0;\"/></a>\n",
       "<div class=\"large-12 columns\" id=\"content\">\n",
       "<div class=\"example\">\n",
       "<h2>Login Page</h2>\n",
       "<h4 class=\"subheader\">This is where you can log into the secure area. Enter <em>tomsmith</em> for the username and <em>SuperSecretPassword!</em> for the password. If the information is wrong you should see error messages.</h4>\n",
       "<form action=\"/authenticate\" id=\"login\" method=\"post\" name=\"login\">\n",
       "<div class=\"row\">\n",
       "<div class=\"large-6 small-12 columns\">\n",
       "<label for=\"username\">Username</label>\n",
       "<input id=\"username\" name=\"username\" type=\"text\"/>\n",
       "</div>\n",
       "</div>\n",
       "<div class=\"row\">\n",
       "<div class=\"large-6 small-12 columns\">\n",
       "<label for=\"password\">Password</label>\n",
       "<input id=\"password\" name=\"password\" type=\"password\"/>\n",
       "</div>\n",
       "</div>\n",
       "<button class=\"radius\" type=\"submit\"><i class=\"fa fa-2x fa-sign-in\"> Login</i></button>\n",
       "</form>\n",
       "</div>\n",
       "</div>\n",
       "</div>\n",
       "<div class=\"row\" id=\"page-footer\">\n",
       "<div class=\"large-4 large-centered columns\">\n",
       "<hr/>\n",
       "<div style=\"text-align: center;\">Powered by <a href=\"http://elementalselenium.com/\" target=\"_blank\">Elemental Selenium</a></div>\n",
       "</div>\n",
       "</div>\n",
       "</body>\n",
       "</html>\n",
       "</html>"
      ]
     },
     "execution_count": 12,
     "metadata": {},
     "output_type": "execute_result"
    }
   ],
   "source": [
    "raw_html = urlopen(link)\n",
    "login_page = BeautifulSoup(raw_html, \"html.parser\")\n",
    "login_page"
   ]
  },
  {
   "cell_type": "markdown",
   "id": "10e577b1-a141-41cf-9036-c59244732118",
   "metadata": {},
   "source": [
    "From the output above, we can easily find out that the elements that are linked to the username and password fields are both input tags with id \"username\" and \"password\" respectively. \n",
    "\n",
    "This is relatively easy to find because it is just an example, but in more complex websites it is better to locate them via developer consoles.\n",
    "\n",
    "To do that, we make use of the `find_element` tag to locate each input field by its id as shown below, by importing the `by` class.\n",
    "\n",
    "We then send the keys to the input field by using the `keys` class. By running the script below, you should see **both fields within the automated browser** that you just opened get **automatically updated**."
   ]
  },
  {
   "cell_type": "code",
   "execution_count": 14,
   "id": "e99acd7d-cc36-464a-9766-5cee47812d6f",
   "metadata": {
    "tags": []
   },
   "outputs": [],
   "source": [
    "# Pre-establishing the password and username \n",
    "# Note that if you are doing this for your own project, ensure you are securing your credentials to prevent misuse\n",
    "\n",
    "user = 'tomsmith'\n",
    "pw = 'SuperSecretPassword!'\n",
    "\n",
    "# Get the element of both username and password fields\n",
    "username_input = driver.find_element(By.ID, \"username\")\n",
    "password_input = driver.find_element(By.ID, \"password\")\n",
    "\n",
    "# Input the credentials (the credentials for the-internet are usually provided on the page)\n",
    "username_input.send_keys(user)\n",
    "password_input.send_keys(pw)"
   ]
  },
  {
   "cell_type": "markdown",
   "id": "6fc3da03-5d48-455e-a2c8-7aeb62175a1e",
   "metadata": {
    "tags": []
   },
   "source": [
    "Now that we've updated both fields, the next thing we'll get Selenium to do is to **click the login button**. This time, we'll make use of `CSS Selector` because this button does not have a id associated to it. \n",
    "\n",
    "In short, `CSS selector` just identifies elements on a web page based on their cascading style sheet (CSS) properties. They are used to select the HTML elements with that specific css tags. \n",
    "\n",
    "In this case, we are using an attribute selector, which selects an element based on the presence or value of a given attribute. In this case, it selects the `button` element with the type 'submit'.\n",
    "\n",
    "If you'll like to check on more on CSS selectors, visit this link here: <href>https://saucelabs.com/resources/blog/selenium-tips-css-selectors<href/> \n",
    "\n",
    "Run the code below to witness it in action!"
   ]
  },
  {
   "cell_type": "code",
   "execution_count": 16,
   "id": "7774dead-0ee2-4b33-af6a-f6835280d545",
   "metadata": {
    "tags": []
   },
   "outputs": [],
   "source": [
    "login_button = driver.find_element(By.CSS_SELECTOR, \"button[type='submit']\")\n",
    "login_button.click()"
   ]
  },
  {
   "cell_type": "markdown",
   "id": "d4b7d46f-68f6-44de-aaac-b086612ef422",
   "metadata": {},
   "source": [
    "### Submission Deliverable"
   ]
  },
  {
   "cell_type": "code",
   "execution_count": 42,
   "id": "6dadff2a-8e47-4ac3-9bd1-603fc1ae6932",
   "metadata": {
    "tags": []
   },
   "outputs": [],
   "source": [
    "# Importing all the necessary packages\n",
    "from selenium import webdriver\n",
    "from selenium.webdriver.common.by import By\n",
    "from bs4 import BeautifulSoup\n",
    "from urllib.request import urlopen"
   ]
  },
  {
   "cell_type": "code",
   "execution_count": 43,
   "id": "e7fee34a-7373-4a84-a02b-e24d9e53fa88",
   "metadata": {
    "tags": []
   },
   "outputs": [],
   "source": [
    "# Opening the link using Webdriver\n",
    "link = 'https://quotes.toscrape.com'\n",
    "\n",
    "driver = webdriver.Chrome()\n",
    "driver.get((link))"
   ]
  },
  {
   "cell_type": "code",
   "execution_count": 36,
   "id": "b403787a-c220-40ed-8f56-aee3ed908690",
   "metadata": {
    "tags": []
   },
   "outputs": [],
   "source": [
    "# Navigating to the next page by clicking next\n",
    "next_button = driver.find_element(By.CSS_SELECTOR, \"li.next a\")\n",
    "next_button.click()"
   ]
  },
  {
   "cell_type": "code",
   "execution_count": 46,
   "id": "99d46767-a761-4acc-bef1-e3173c23e172",
   "metadata": {
    "tags": []
   },
   "outputs": [],
   "source": [
    "# Get the link of the current_page_url \n",
    "current_page_url = driver.current_url\n",
    "# opening the current_page_url\n",
    "driver.get(current_page_url)"
   ]
  },
  {
   "cell_type": "code",
   "execution_count": 48,
   "id": "ae4b8b1a-f9cd-467f-b79f-a9200507d467",
   "metadata": {
    "tags": []
   },
   "outputs": [],
   "source": [
    "# Taking raw web content in bytes format and converting it into a readable string format using the UTF-8 encoding\n",
    "raw_content_bytes = driver.page_source.encode(\"utf-8\")\n",
    "\n",
    "html = raw_content_bytes.decode(\"utf-8\")"
   ]
  },
  {
   "cell_type": "code",
   "execution_count": 49,
   "id": "522674b1-fc8f-4cf0-9839-7145913c793b",
   "metadata": {
    "tags": []
   },
   "outputs": [],
   "source": [
    "# Use beautifulSoup package to parse and read them\n",
    "from bs4 import BeautifulSoup\n",
    "\n",
    "soup = BeautifulSoup(html, \"html.parser\")\n",
    "text = soup.find_all(\"span\", class_=\"text\")"
   ]
  },
  {
   "cell_type": "code",
   "execution_count": 50,
   "id": "2d06fc0f-9777-40d0-980b-1689a8297bd7",
   "metadata": {
    "tags": []
   },
   "outputs": [
    {
     "name": "stdout",
     "output_type": "stream",
     "text": [
      "“The world as we have created it is a process of our thinking. It cannot be changed without changing our thinking.”\n",
      "“It is our choices, Harry, that show what we truly are, far more than our abilities.”\n",
      "“There are only two ways to live your life. One is as though nothing is a miracle. The other is as though everything is a miracle.”\n",
      "“The person, be it gentleman or lady, who has not pleasure in a good novel, must be intolerably stupid.”\n",
      "“Imperfection is beauty, madness is genius and it's better to be absolutely ridiculous than absolutely boring.”\n",
      "“Try not to become a man of success. Rather become a man of value.”\n",
      "“It is better to be hated for what you are than to be loved for what you are not.”\n",
      "“I have not failed. I've just found 10,000 ways that won't work.”\n",
      "“A woman is like a tea bag; you never know how strong it is until it's in hot water.”\n",
      "“A day without sunshine is like, you know, night.”\n"
     ]
    }
   ],
   "source": [
    "# Print out each quote\n",
    "for obj in text:\n",
    "    print(obj.get_text())"
   ]
  },
  {
   "cell_type": "code",
   "execution_count": null,
   "id": "a2f0760b-fdda-4656-91e1-7fae6292e91d",
   "metadata": {},
   "outputs": [],
   "source": []
  }
 ],
 "metadata": {
  "kernelspec": {
   "display_name": "webscraper",
   "language": "python",
   "name": "webscraper"
  },
  "language_info": {
   "codemirror_mode": {
    "name": "ipython",
    "version": 3
   },
   "file_extension": ".py",
   "mimetype": "text/x-python",
   "name": "python",
   "nbconvert_exporter": "python",
   "pygments_lexer": "ipython3",
   "version": "3.11.5"
  }
 },
 "nbformat": 4,
 "nbformat_minor": 5
}
